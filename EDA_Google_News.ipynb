{
 "cells": [
  {
   "cell_type": "markdown",
   "id": "a76dd849",
   "metadata": {},
   "source": [
    "\n",
    "# Google Daily News - Exploratory Data Analysis (EDA)\n",
    "\n",
    "This notebook explores the `Google_Daily_News.csv` dataset to identify trending topics and news category distributions over time.\n"
   ]
  },
  {
   "cell_type": "code",
   "execution_count": null,
   "id": "7d1d6f3e",
   "metadata": {},
   "outputs": [],
   "source": [
    "\n",
    "import pandas as pd\n",
    "import matplotlib.pyplot as plt\n",
    "import seaborn as sns\n",
    "from wordcloud import WordCloud\n",
    "from collections import Counter\n",
    "from datetime import datetime\n",
    "\n",
    "# Load dataset\n",
    "df = pd.read_csv(\"Google_Daily_News.csv\")\n",
    "df['date'] = pd.to_datetime(df['date'], errors='coerce')\n",
    "df.dropna(subset=['title', 'date'], inplace=True)\n",
    "df = df.sort_values('date')\n",
    "df.head()\n"
   ]
  },
  {
   "cell_type": "code",
   "execution_count": null,
   "id": "c7088bcb",
   "metadata": {},
   "outputs": [],
   "source": [
    "\n",
    "# News count per day\n",
    "plt.figure(figsize=(12, 4))\n",
    "df['date'].dt.date.value_counts().sort_index().plot()\n",
    "plt.title(\"Jumlah Berita per Hari\")\n",
    "plt.xlabel(\"Tanggal\")\n",
    "plt.ylabel(\"Jumlah Berita\")\n",
    "plt.tight_layout()\n",
    "plt.show()\n"
   ]
  },
  {
   "cell_type": "code",
   "execution_count": null,
   "id": "9a831177",
   "metadata": {},
   "outputs": [],
   "source": [
    "\n",
    "# Distribusi kategori berita\n",
    "plt.figure(figsize=(10, 5))\n",
    "df['category'].value_counts().head(10).plot(kind='bar')\n",
    "plt.title(\"Distribusi Kategori Berita\")\n",
    "plt.xlabel(\"Kategori\")\n",
    "plt.ylabel(\"Jumlah\")\n",
    "plt.xticks(rotation=45)\n",
    "plt.tight_layout()\n",
    "plt.show()\n"
   ]
  },
  {
   "cell_type": "code",
   "execution_count": null,
   "id": "c1228803",
   "metadata": {},
   "outputs": [],
   "source": [
    "\n",
    "# Word cloud dan top keywords\n",
    "from sklearn.feature_extraction.text import CountVectorizer\n",
    "\n",
    "# Lowercase titles for processing\n",
    "titles = df['title'].dropna().str.lower()\n",
    "\n",
    "# Generate word cloud\n",
    "text = ' '.join(titles)\n",
    "wordcloud = WordCloud(width=800, height=400, background_color='white').generate(text)\n",
    "\n",
    "plt.figure(figsize=(10, 5))\n",
    "plt.imshow(wordcloud, interpolation='bilinear')\n",
    "plt.axis('off')\n",
    "plt.title(\"Word Cloud - Topik Populer dalam Judul Berita\")\n",
    "plt.show()\n",
    "\n",
    "# Tampilkan 10 kata paling umum\n",
    "vectorizer = CountVectorizer(stop_words='english')\n",
    "word_matrix = vectorizer.fit_transform(titles)\n",
    "word_counts = word_matrix.sum(axis=0).A1\n",
    "vocab = vectorizer.get_feature_names_out()\n",
    "word_freq = dict(zip(vocab, word_counts))\n",
    "top_keywords = Counter(word_freq).most_common(10)\n",
    "\n",
    "# Plot\n",
    "plt.figure(figsize=(8, 4))\n",
    "sns.barplot(x=[count for word, count in top_keywords], y=[word for word, count in top_keywords])\n",
    "plt.title(\"10 Kata Paling Umum dalam Judul Berita\")\n",
    "plt.xlabel(\"Jumlah\")\n",
    "plt.ylabel(\"Kata\")\n",
    "plt.tight_layout()\n",
    "plt.show()\n"
   ]
  }
 ],
 "metadata": {},
 "nbformat": 4,
 "nbformat_minor": 5
}
